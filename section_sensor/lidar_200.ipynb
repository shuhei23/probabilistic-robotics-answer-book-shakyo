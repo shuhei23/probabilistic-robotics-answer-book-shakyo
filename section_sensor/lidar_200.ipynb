{
 "cells": [
  {
   "cell_type": "code",
   "execution_count": null,
   "metadata": {},
   "outputs": [],
   "source": [
    "print(data[\"lidar\"][0:8])"
   ]
  },
  {
   "cell_type": "code",
   "execution_count": null,
   "metadata": {},
   "outputs": [],
   "source": [
    "import matplotlib.pyplot as plt\n",
    "data[\"lidar\"].hist(bins = max(data[\"lidar\"]) - min(data[\"lidar\"]),align='left')\n",
    "plt.show()"
   ]
  },
  {
   "cell_type": "code",
   "execution_count": null,
   "metadata": {},
   "outputs": [],
   "source": [
    "data[\"lidar\"].hist(bins = max(data[\"lidar\"]) - min(data[\"lidar\"]),color=\"orange\",align='left')\n",
    "plt.vlines(mean1,ymin=0,ymax=5000,color=\"red\")\n",
    "plt.show()"
   ]
  },
  {
   "cell_type": "code",
   "execution_count": null,
   "metadata": {},
   "outputs": [],
   "source": [
    "# 定義から計算\n",
    "zs = data[\"lidar\"].values\n",
    "mean = sum(zs)/len(zs)\n",
    "diff_square = [(z-mean)**2 for z in zs]\n",
    "\n",
    "sampling_var = sum(diff_square)/(len(zs))   # 標本分散\n",
    "unbiased_var = sum(diff_square)/(len(zs)-1) # 不偏分散\n",
    "\n",
    "print(sampling_var)\n",
    "print(unbiased_var)\n",
    "\n",
    "# Pandasを使用\n",
    "pandas_sampling_var = data[\"lidar\"].var(ddof = 0)   # 標本分散\n",
    "pandas_default_var = data[\"lidar\"].var()            # デフォルト（不偏分散）\n",
    "\n",
    "print(pandas_sampling_var)\n",
    "print(pandas_default_var)\n",
    "\n",
    "# NumPyを使用\n",
    "import numpy as np\n",
    "\n",
    "numpy_default_var = np.var(data[\"lidar\"])               # デフォルト（標本分散）\n",
    "numpy_unbiased_var = np.var(data[\"lidar\"], ddof = 1)    # 不偏分散\n",
    "\n",
    "print(numpy_default_var)\n",
    "print(numpy_unbiased_var)\n"
   ]
  },
  {
   "cell_type": "code",
   "execution_count": null,
   "metadata": {},
   "outputs": [],
   "source": [
    "import math\n",
    "\n",
    "# 定義から計算\n",
    "stddev1 = math.sqrt(sampling_var)\n",
    "stdde\n"
   ]
  }
 ],
 "metadata": {
  "kernelspec": {
   "display_name": "Python 3.7.12 ('pr-book')",
   "language": "python",
   "name": "python3"
  },
  "language_info": {
   "codemirror_mode": {
    "name": "ipython",
    "version": 3
   },
   "file_extension": ".py",
   "mimetype": "text/x-python",
   "name": "python",
   "nbconvert_exporter": "python",
   "pygments_lexer": "ipython3",
   "version": "3.7.12"
  },
  "orig_nbformat": 4,
  "vscode": {
   "interpreter": {
    "hash": "04b736cb71c9999e5a69486214aaca63c80ad3bff01c5115590ce129c52587b8"
   }
  }
 },
 "nbformat": 4,
 "nbformat_minor": 2
}
