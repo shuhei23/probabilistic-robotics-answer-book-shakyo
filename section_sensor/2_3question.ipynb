{
 "cells": [
  {
   "cell_type": "code",
   "execution_count": 10,
   "metadata": {},
   "outputs": [
    {
     "name": "stdout",
     "output_type": "stream",
     "text": [
      "標本分散: N = 3, var = 7.010958430710166\n",
      "\n",
      "不偏分散: N = 3, var = 10.51643764606525\n",
      "\n"
     ]
    }
   ],
   "source": [
    "# def p(z, mu=209.7, dev=23.4):\n",
    "#    return math.exp(-(z-mu)**2/(2*dev))/math.sqrt(2*math.pi*dev)\n",
    "\n",
    "import numpy as np\n",
    "n_sample = 3\n",
    "sample_data = np.zeros([n_sample])\n",
    "for i_sample in range(0,n_sample):\n",
    "    sample_data[i_sample] = np.sqrt(23.4) * np.random.normal() + 209.7 # N(209.7, sigma^2 = 23.4) からのサンプリング\n",
    "print(f\"標本分散: N = {n_sample}, var = {np.var(sample_data)}\\n\")\n",
    "print(f\"不偏分散: N = {n_sample}, var = {np.var(sample_data,ddof = 1)}\\n\")"
   ]
  },
  {
   "cell_type": "code",
   "execution_count": 13,
   "metadata": {},
   "outputs": [
    {
     "name": "stdout",
     "output_type": "stream",
     "text": [
      "標本分散: N = 10000, var = 23.52775755164086\n",
      "\n",
      "不偏分散: N = 10000, var = 23.53011056269713\n",
      "\n"
     ]
    }
   ],
   "source": [
    "n_sample = 10000\n",
    "sample_data = np.zeros([n_sample])\n",
    "for i_sample in range(0,n_sample):\n",
    "    sample_data[i_sample] = np.sqrt(23.4) * np.random.normal() + 209.7 # N(209.7, sigma^2 = 23.4) からのサンプリング\n",
    "print(f\"標本分散: N = {n_sample}, var = {np.var(sample_data)}\\n\")\n",
    "print(f\"不偏分散: N = {n_sample}, var = {np.var(sample_data,ddof = 1)}\\n\")"
   ]
  },
  {
   "cell_type": "code",
   "execution_count": 29,
   "metadata": {},
   "outputs": [
    {
     "data": {
      "image/png": "[encoded data removed]",
      "text/plain": [
       "<Figure size 640x480 with 1 Axes>"
      ]
     },
     "metadata": {},
     "output_type": "display_data"
    },
    {
     "ename": "AttributeError",
     "evalue": "'numpy.ndarray' object has no attribute 'hist'",
     "output_type": "error",
     "traceback": [
      "\u001b[1;31m---------------------------------------------------------------------------\u001b[0m",
      "\u001b[1;31mAttributeError\u001b[0m                            Traceback (most recent call last)",
      "\u001b[1;32m~\\AppData\\Local\\Temp\\ipykernel_30724\\1064587951.py\u001b[0m in \u001b[0;36m<module>\u001b[1;34m\u001b[0m\n\u001b[0;32m      6\u001b[0m \u001b[0mplt\u001b[0m\u001b[1;33m.\u001b[0m\u001b[0mhist\u001b[0m\u001b[1;33m(\u001b[0m\u001b[0msample_data\u001b[0m\u001b[1;33m,\u001b[0m \u001b[0mdensity\u001b[0m\u001b[1;33m=\u001b[0m\u001b[1;32mTrue\u001b[0m\u001b[1;33m)\u001b[0m\u001b[1;33m\u001b[0m\u001b[1;33m\u001b[0m\u001b[0m\n\u001b[0;32m      7\u001b[0m \u001b[0mplt\u001b[0m\u001b[1;33m.\u001b[0m\u001b[0mshow\u001b[0m\u001b[1;33m(\u001b[0m\u001b[1;33m)\u001b[0m\u001b[1;33m\u001b[0m\u001b[1;33m\u001b[0m\u001b[0m\n\u001b[1;32m----> 8\u001b[1;33m \u001b[0msample_data\u001b[0m\u001b[1;33m.\u001b[0m\u001b[0mhist\u001b[0m\u001b[1;33m(\u001b[0m\u001b[0mbins\u001b[0m \u001b[1;33m=\u001b[0m \u001b[0mmax\u001b[0m\u001b[1;33m(\u001b[0m\u001b[0msample_data\u001b[0m\u001b[1;33m)\u001b[0m \u001b[1;33m-\u001b[0m \u001b[0mmin\u001b[0m\u001b[1;33m(\u001b[0m\u001b[0msample_data\u001b[0m\u001b[1;33m)\u001b[0m\u001b[1;33m,\u001b[0m\u001b[0malign\u001b[0m\u001b[1;33m=\u001b[0m\u001b[1;34m'left'\u001b[0m\u001b[1;33m)\u001b[0m \u001b[1;31m# pandas で読んだ形式じゃないと出せない ???\u001b[0m\u001b[1;33m\u001b[0m\u001b[1;33m\u001b[0m\u001b[0m\n\u001b[0m\u001b[0;32m      9\u001b[0m \u001b[1;33m\u001b[0m\u001b[0m\n",
      "\u001b[1;31mAttributeError\u001b[0m: 'numpy.ndarray' object has no attribute 'hist'"
     ]
    }
   ],
   "source": [
    "import matplotlib.pyplot as plt\n",
    "n_sample = 10000\n",
    "sample_data = np.zeros([n_sample])\n",
    "for i_sample in range(0,n_sample):\n",
    "    sample_data[i_sample] = (np.random.choice(6, 10, p=[1./6., 1./6., 1./6., 1./6., 1./6., 1./6.]) + 1).sum() + 200.  \n",
    "plt.hist(sample_data, density=True) # 200 + 3.5 * 10 = 235 が　平均\n",
    "plt.show()\n",
    "sample_data.hist(bins = max(sample_data) - min(sample_data),align='left') # pandas で読んだ形式じゃないと出せない ??? \n",
    "\n"
   ]
  },
  {
   "cell_type": "code",
   "execution_count": null,
   "metadata": {},
   "outputs": [],
   "source": []
  }
 ],
 "metadata": {
  "kernelspec": {
   "display_name": "Python 3.7.12 ('pr-book')",
   "language": "python",
   "name": "python3"
  },
  "language_info": {
   "codemirror_mode": {
    "name": "ipython",
    "version": 3
   },
   "file_extension": ".py",
   "mimetype": "text/x-python",
   "name": "python",
   "nbconvert_exporter": "python",
   "pygments_lexer": "ipython3",
   "version": "3.7.12"
  },
  "orig_nbformat": 4,
  "vscode": {
   "interpreter": {
    "hash": "04b736cb71c9999e5a69486214aaca63c80ad3bff01c5115590ce129c52587b8"
   }
  }
 },
 "nbformat": 4,
 "nbformat_minor": 2
}
